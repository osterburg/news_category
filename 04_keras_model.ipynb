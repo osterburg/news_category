{
 "cells": [
  {
   "cell_type": "markdown",
   "metadata": {},
   "source": [
    "## Libraries"
   ]
  },
  {
   "cell_type": "code",
   "execution_count": 1,
   "metadata": {},
   "outputs": [
    {
     "name": "stderr",
     "output_type": "stream",
     "text": [
      "Using TensorFlow backend.\n"
     ]
    }
   ],
   "source": [
    "import matplotlib.pyplot as plt\n",
    "import seaborn as sns\n",
    "%matplotlib inline\n",
    "%load_ext autoreload\n",
    "\n",
    "from tqdm import tqdm \n",
    "\n",
    "import sys\n",
    "import csv\n",
    "import string\n",
    "import multiprocessing\n",
    "import pandas as pd\n",
    "import numpy as np\n",
    "\n",
    "import keras\n",
    "from keras.preprocessing import sequence\n",
    "from keras.layers import Input, Dense, Embedding, Conv2D, MaxPool2D, Conv1D, GlobalMaxPooling1D, MaxPool1D\n",
    "from keras.layers import Reshape, Flatten, Dropout, Concatenate, Dropout, Activation, Flatten\n",
    "from keras.callbacks import ModelCheckpoint\n",
    "from keras.optimizers import Adam\n",
    "from keras.models import Sequential, load_model, Model\n",
    "import tensorflow as tf\n",
    "\n",
    "from nltk import word_tokenize\n",
    "from nltk.corpus import stopwords\n",
    "\n",
    "import gensim\n",
    "from gensim.models import word2vec\n",
    "from gensim.models.fasttext import FastText\n",
    "from gensim.parsing.preprocessing import preprocess_string"
   ]
  },
  {
   "cell_type": "markdown",
   "metadata": {},
   "source": [
    "## Defaults"
   ]
  },
  {
   "cell_type": "code",
   "execution_count": 2,
   "metadata": {},
   "outputs": [],
   "source": [
    "train_data = '/storage/data/train_bool_data.csv'\n",
    "valid_data = '/storage/data/test_bool_data.csv'\n",
    "\n",
    "cachedStopWords = stopwords.words(\"english\")\n",
    "cachedStopWords += list(string.punctuation)\n",
    "cachedStopWords += ['0', '1', '2', '3', '4', '5', '6', '7', '8', '9', '-', '…', '’']\n",
    "\n",
    "categories = ['bias', 'clickbait', 'conspiracy', 'fake', 'hate', 'junksci', \n",
    "              'political', 'reliable', 'rumor', 'satire', 'state', 'unreliable']\n",
    "\n",
    "chunksize = 10000"
   ]
  },
  {
   "cell_type": "code",
   "execution_count": 3,
   "metadata": {},
   "outputs": [
    {
     "name": "stderr",
     "output_type": "stream",
     "text": [
      "3612035it [00:20, 179732.91it/s]\n"
     ]
    }
   ],
   "source": [
    "train_size = 0\n",
    "with open(train_data, 'r') as f:\n",
    "    for line in tqdm(f):\n",
    "        train_size += 1"
   ]
  },
  {
   "cell_type": "code",
   "execution_count": 4,
   "metadata": {},
   "outputs": [
    {
     "name": "stdout",
     "output_type": "stream",
     "text": [
      "training size: 3612035\n"
     ]
    }
   ],
   "source": [
    "print(\"training size: {}\".format(train_size))"
   ]
  },
  {
   "cell_type": "code",
   "execution_count": 5,
   "metadata": {},
   "outputs": [
    {
     "name": "stderr",
     "output_type": "stream",
     "text": [
      "903214it [00:04, 192602.47it/s]\n"
     ]
    }
   ],
   "source": [
    "valid_size = 0\n",
    "with open(valid_data, 'r') as f:\n",
    "    for line in tqdm(f):\n",
    "        valid_size += 1"
   ]
  },
  {
   "cell_type": "code",
   "execution_count": 6,
   "metadata": {},
   "outputs": [
    {
     "name": "stdout",
     "output_type": "stream",
     "text": [
      "validation size: 903214\n"
     ]
    }
   ],
   "source": [
    "print(\"validation size: {}\".format(valid_size))"
   ]
  },
  {
   "cell_type": "markdown",
   "metadata": {},
   "source": [
    "## News Generator"
   ]
  },
  {
   "cell_type": "code",
   "execution_count": 7,
   "metadata": {},
   "outputs": [],
   "source": [
    "def news_generator():\n",
    "    with tqdm() as progress:\n",
    "        for df in pd.read_csv('/storage/data/train_news_data.csv', encoding='utf-8', engine='python', chunksize=chunksize):\n",
    "            news_filter = df.category.isin(set(['fake', 'conspiracy', 'unreliable', 'reliable']))\n",
    "            df_filtered = df[news_filter]\n",
    "            \n",
    "            for row in df_filtered.itertuples():\n",
    "                label = 1 if row.category == 'reliable' else 0\n",
    "\n",
    "                progress.update()\n",
    "                yield '%s' % (row.news_content), label"
   ]
  },
  {
   "cell_type": "markdown",
   "metadata": {},
   "source": [
    "## Show Content Length Distribution"
   ]
  },
  {
   "cell_type": "code",
   "execution_count": 8,
   "metadata": {},
   "outputs": [
    {
     "name": "stderr",
     "output_type": "stream",
     "text": [
      "10002it [00:01, 8670.18it/s]\n"
     ]
    }
   ],
   "source": [
    "content_len = []\n",
    "for i, (content, label) in enumerate(news_generator()):\n",
    "    if i > 10 * 1000:\n",
    "        break\n",
    "\n",
    "    content_len.append(len(content))"
   ]
  },
  {
   "cell_type": "code",
   "execution_count": 9,
   "metadata": {},
   "outputs": [
    {
     "data": {
      "text/plain": [
       "<matplotlib.axes._subplots.AxesSubplot at 0x7f29c94ead30>"
      ]
     },
     "execution_count": 9,
     "metadata": {},
     "output_type": "execute_result"
    },
    {
     "data": {
      "image/png": "[encoded data removed]",
      "text/plain": [
       "<Figure size 432x288 with 1 Axes>"
      ]
     },
     "metadata": {
      "needs_background": "light"
     },
     "output_type": "display_data"
    }
   ],
   "source": [
    "len(content_len), sum(content_len) / len(content_len), max(content_len), min(content_len)\n",
    "sns.distplot(content_len)"
   ]
  },
  {
   "cell_type": "markdown",
   "metadata": {},
   "source": [
    "## Generator"
   ]
  },
  {
   "cell_type": "code",
   "execution_count": 10,
   "metadata": {},
   "outputs": [],
   "source": [
    "# https://stackoverflow.com/questions/15063936/csv-error-field-larger-than-field-limit-131072\n",
    "\n",
    "maxInt = sys.maxsize\n",
    "decrement = True\n",
    "\n",
    "while decrement:\n",
    "    # decrease the maxInt value by factor 10 \n",
    "    # as long as the OverflowError occurs.\n",
    "    decrement = False\n",
    "    try:\n",
    "        csv.field_size_limit(maxInt)\n",
    "    except OverflowError:\n",
    "        maxInt = int(maxInt/10)\n",
    "        decrement = True"
   ]
  },
  {
   "cell_type": "code",
   "execution_count": 11,
   "metadata": {},
   "outputs": [],
   "source": [
    "# cache GloVe 100d\n",
    "f = open('/storage/data/glove.6B.100d.txt', 'r')\n",
    "\n",
    "glove = {}\n",
    "for line in f:\n",
    "    values = line.split()\n",
    "    \n",
    "    word = values[0]\n",
    "    glove[word] = np.asarray(values[1:], dtype='float32')\n",
    "    \n",
    "f.close()"
   ]
  },
  {
   "cell_type": "code",
   "execution_count": 12,
   "metadata": {},
   "outputs": [],
   "source": [
    "max_words = 250"
   ]
  },
  {
   "cell_type": "code",
   "execution_count": 13,
   "metadata": {},
   "outputs": [],
   "source": [
    "def _generator_process_line(line):\n",
    "    embedding = np.zeros((max_words, 100))\n",
    "    \n",
    "    for i, word in enumerate(line[0].split()[:max_words]):\n",
    "        if word in glove:\n",
    "            embedding[i] = glove[word]\n",
    "            \n",
    "    return embedding, line[1]\n",
    "\n",
    "def Generator(data, batch_size):\n",
    "    while True:\n",
    "        with open(data, 'r') as f:\n",
    "            # skip header\n",
    "            for _ in range(1):\n",
    "                next(f)\n",
    "                \n",
    "            batch_i = 0\n",
    "            batch_embedding = np.zeros((batch_size, max_words, 100))\n",
    "            batch_label = np.zeros((batch_size, 1))\n",
    "            \n",
    "            reader = csv.reader(f)\n",
    "            for line in reader:\n",
    "                embedding, label = _generator_process_line(line)                \n",
    "\n",
    "                if (batch_i + 1) == batch_size:\n",
    "                    yield batch_embedding, batch_label\n",
    "                    \n",
    "                    batch_embedding = np.zeros((batch_size, max_words, 100))\n",
    "                    batch_label = np.zeros((batch_size, 1))\n",
    "                    batch_i = 0\n",
    "                else:\n",
    "                    batch_embedding[batch_i] = embedding\n",
    "                    batch_label[batch_i, 0] = label\n",
    "                    batch_i += 1"
   ]
  },
  {
   "cell_type": "markdown",
   "metadata": {},
   "source": [
    "## Keras Model\n",
    "\n",
    "**Fake vs Reliable News Classification**"
   ]
  },
  {
   "cell_type": "code",
   "execution_count": 19,
   "metadata": {},
   "outputs": [],
   "source": [
    "input_shape = max_words, 100\n",
    "\n",
    "filters = 250\n",
    "kernel_size = 3\n",
    "hidden_dims = 250\n",
    "\n",
    "batch_size = 128\n",
    "epochs = 20"
   ]
  },
  {
   "cell_type": "code",
   "execution_count": 15,
   "metadata": {},
   "outputs": [],
   "source": [
    "def cnn_model(input_shape, filters=250, kernel_size=3, hidden_dims=250):\n",
    "    model = Sequential([\n",
    "        Conv1D(filters, kernel_size, input_shape=(input_shape[0], input_shape[1]), \n",
    "               padding='valid',  activation='relu', strides=1),\n",
    "        GlobalMaxPooling1D(),\n",
    "        Dense(hidden_dims),\n",
    "        Dropout(0.2),\n",
    "        Activation('relu'),\n",
    "        # We project onto a single unit output layer\n",
    "        Dense(1, activation='sigmoid')\n",
    "    ])\n",
    "        \n",
    "    model.compile(loss='binary_crossentropy', optimizer='adam', metrics=['accuracy'])\n",
    "    \n",
    "    return model"
   ]
  },
  {
   "cell_type": "code",
   "execution_count": 16,
   "metadata": {},
   "outputs": [
    {
     "name": "stdout",
     "output_type": "stream",
     "text": [
      "WARNING:tensorflow:From /opt/conda/envs/fastai/lib/python3.6/site-packages/tensorflow/python/framework/op_def_library.py:263: colocate_with (from tensorflow.python.framework.ops) is deprecated and will be removed in a future version.\n",
      "Instructions for updating:\n",
      "Colocations handled automatically by placer.\n",
      "WARNING:tensorflow:From /opt/conda/envs/fastai/lib/python3.6/site-packages/keras/backend/tensorflow_backend.py:3445: calling dropout (from tensorflow.python.ops.nn_ops) with keep_prob is deprecated and will be removed in a future version.\n",
      "Instructions for updating:\n",
      "Please use `rate` instead of `keep_prob`. Rate should be set to `rate = 1 - keep_prob`.\n",
      "_________________________________________________________________\n",
      "Layer (type)                 Output Shape              Param #   \n",
      "=================================================================\n",
      "conv1d_1 (Conv1D)            (None, 248, 250)          75250     \n",
      "_________________________________________________________________\n",
      "global_max_pooling1d_1 (Glob (None, 250)               0         \n",
      "_________________________________________________________________\n",
      "dense_1 (Dense)              (None, 250)               62750     \n",
      "_________________________________________________________________\n",
      "dropout_1 (Dropout)          (None, 250)               0         \n",
      "_________________________________________________________________\n",
      "activation_1 (Activation)    (None, 250)               0         \n",
      "_________________________________________________________________\n",
      "dense_2 (Dense)              (None, 1)                 251       \n",
      "=================================================================\n",
      "Total params: 138,251\n",
      "Trainable params: 138,251\n",
      "Non-trainable params: 0\n",
      "_________________________________________________________________\n"
     ]
    }
   ],
   "source": [
    "model = cnn_model(input_shape, filters, kernel_size, hidden_dims)\n",
    "model.summary()"
   ]
  },
  {
   "cell_type": "code",
   "execution_count": 20,
   "metadata": {
    "scrolled": false
   },
   "outputs": [
    {
     "name": "stdout",
     "output_type": "stream",
     "text": [
      "Epoch 1/20\n",
      "28219/28219 [==============================] - 3299s 117ms/step - loss: 0.1508 - acc: 0.9895 - val_loss: 8.8192 - val_acc: 0.4415\n",
      "Epoch 2/20\n",
      "28219/28219 [==============================] - 3406s 121ms/step - loss: 0.0457 - acc: 0.9947 - val_loss: 8.8171 - val_acc: 0.4415\n",
      "Epoch 3/20\n",
      "28219/28219 [==============================] - 3623s 128ms/step - loss: 0.0334 - acc: 0.9959 - val_loss: 8.8235 - val_acc: 0.4415\n",
      "Epoch 4/20\n",
      "28219/28219 [==============================] - 3399s 120ms/step - loss: 0.0394 - acc: 0.9957 - val_loss: 8.8247 - val_acc: 0.4415\n",
      "Epoch 5/20\n",
      "28219/28219 [==============================] - 3271s 116ms/step - loss: 0.0289 - acc: 0.9965 - val_loss: 8.8279 - val_acc: 0.4415\n",
      "Epoch 6/20\n",
      "28219/28219 [==============================] - 3164s 112ms/step - loss: 0.0240 - acc: 0.9970 - val_loss: 8.8325 - val_acc: 0.4415\n",
      "Epoch 7/20\n",
      "28219/28219 [==============================] - 3164s 112ms/step - loss: 0.0247 - acc: 0.9969 - val_loss: 8.8355 - val_acc: 0.4415\n",
      "Epoch 8/20\n",
      "28219/28219 [==============================] - 3167s 112ms/step - loss: 0.0253 - acc: 0.9970 - val_loss: 8.8517 - val_acc: 0.4415\n",
      "Epoch 9/20\n",
      "28219/28219 [==============================] - 3166s 112ms/step - loss: 0.0248 - acc: 0.9970 - val_loss: 8.8533 - val_acc: 0.4415\n",
      "Epoch 10/20\n",
      "28219/28219 [==============================] - 3165s 112ms/step - loss: 0.0257 - acc: 0.9972 - val_loss: 8.8783 - val_acc: 0.4415\n",
      "Epoch 11/20\n",
      "28219/28219 [==============================] - 3284s 116ms/step - loss: 0.0243 - acc: 0.9973 - val_loss: 8.8627 - val_acc: 0.4415\n",
      "Epoch 12/20\n",
      "28219/28219 [==============================] - 3404s 121ms/step - loss: 0.0209 - acc: 0.9975 - val_loss: 8.8651 - val_acc: 0.4415\n",
      "Epoch 13/20\n",
      "28219/28219 [==============================] - 3334s 118ms/step - loss: 0.0258 - acc: 0.9974 - val_loss: 8.7882 - val_acc: 0.4461\n",
      "Epoch 14/20\n",
      "28219/28219 [==============================] - 3163s 112ms/step - loss: 0.0208 - acc: 0.9976 - val_loss: 8.8527 - val_acc: 0.4426\n",
      "Epoch 15/20\n",
      "28219/28219 [==============================] - 3355s 119ms/step - loss: 0.0206 - acc: 0.9978 - val_loss: 8.8549 - val_acc: 0.4431\n",
      "Epoch 16/20\n",
      "28219/28219 [==============================] - 3411s 121ms/step - loss: 0.0213 - acc: 0.9978 - val_loss: 8.6944 - val_acc: 0.4534\n",
      "Epoch 17/20\n",
      "28219/28219 [==============================] - 3286s 116ms/step - loss: 0.0202 - acc: 0.9979 - val_loss: 8.8861 - val_acc: 0.4420\n",
      "Epoch 18/20\n",
      "28219/28219 [==============================] - 3406s 121ms/step - loss: 0.0242 - acc: 0.9975 - val_loss: 8.8828 - val_acc: 0.4415\n",
      "Epoch 19/20\n",
      "28219/28219 [==============================] - 3464s 123ms/step - loss: 0.0213 - acc: 0.9978 - val_loss: 8.9011 - val_acc: 0.4416\n",
      "Epoch 20/20\n",
      "28219/28219 [==============================] - 3428s 121ms/step - loss: 0.0232 - acc: 0.9977 - val_loss: 8.8395 - val_acc: 0.4450\n"
     ]
    }
   ],
   "source": [
    "with tf.device('/gpu:0'):\n",
    "    history = model.fit_generator(Generator(train_data, batch_size), \n",
    "                                  steps_per_epoch=train_size//batch_size,\n",
    "                                  validation_data=Generator(valid_data, batch_size), \n",
    "                                  validation_steps=valid_size//batch_size,\n",
    "                                  epochs=epochs, verbose=1)"
   ]
  },
  {
   "cell_type": "code",
   "execution_count": 18,
   "metadata": {},
   "outputs": [],
   "source": [
    "def plot_history(history):\n",
    "    acc = history.history['acc']\n",
    "    val_acc = history.history['val_acc']\n",
    "    \n",
    "    loss = history.history['loss']\n",
    "    val_loss = history.history['val_loss']\n",
    "    \n",
    "    epochs = range(1, len(acc) + 1)\n",
    "\n",
    "    plt.figure(figsize=(12, 6))\n",
    "    plt.subplot(1, 2, 1)\n",
    "    plt.plot(epochs, acc, 'b', label='training acc')\n",
    "    plt.plot(epochs, val_acc, 'r', label='validation acc')\n",
    "    plt.title('training and validation accuracy')\n",
    "    plt.legend()\n",
    "    \n",
    "    plt.subplot(1, 2, 2)\n",
    "    plt.plot(epochs, loss, 'b', label='training loss')\n",
    "    plt.plot(epochs, val_loss, 'r', label='validation loss')\n",
    "    plt.title('training and validation loss')\n",
    "    plt.legend()\n",
    "    \n",
    "    plt.show();"
   ]
  },
  {
   "cell_type": "code",
   "execution_count": 21,
   "metadata": {},
   "outputs": [
    {
     "data": {
      "image/png": "[encoded data removed]",
      "text/plain": [
       "<Figure size 864x432 with 2 Axes>"
      ]
     },
     "metadata": {
      "needs_background": "light"
     },
     "output_type": "display_data"
    }
   ],
   "source": [
    "plot_history(history)"
   ]
  },
  {
   "cell_type": "code",
   "execution_count": null,
   "metadata": {},
   "outputs": [],
   "source": []
  },
  {
   "cell_type": "code",
   "execution_count": null,
   "metadata": {},
   "outputs": [],
   "source": []
  },
  {
   "cell_type": "code",
   "execution_count": null,
   "metadata": {},
   "outputs": [],
   "source": []
  }
 ],
 "metadata": {
  "kernelspec": {
   "display_name": "Python 3",
   "language": "python",
   "name": "python3"
  },
  "language_info": {
   "codemirror_mode": {
    "name": "ipython",
    "version": 3
   },
   "file_extension": ".py",
   "mimetype": "text/x-python",
   "name": "python",
   "nbconvert_exporter": "python",
   "pygments_lexer": "ipython3",
   "version": "3.6.7"
  },
  "toc": {
   "base_numbering": 1,
   "nav_menu": {},
   "number_sections": true,
   "sideBar": true,
   "skip_h1_title": false,
   "title_cell": "Table of Contents",
   "title_sidebar": "Contents",
   "toc_cell": false,
   "toc_position": {},
   "toc_section_display": true,
   "toc_window_display": false
  }
 },
 "nbformat": 4,
 "nbformat_minor": 2
}
