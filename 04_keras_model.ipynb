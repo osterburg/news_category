{
 "cells": [
  {
   "cell_type": "markdown",
   "metadata": {},
   "source": [
    "## Libraries"
   ]
  },
  {
   "cell_type": "code",
   "execution_count": 1,
   "metadata": {},
   "outputs": [
    {
     "name": "stderr",
     "output_type": "stream",
     "text": [
      "Using TensorFlow backend.\n"
     ]
    }
   ],
   "source": [
    "import matplotlib.pyplot as plt\n",
    "import seaborn as sns\n",
    "%matplotlib inline\n",
    "%load_ext autoreload\n",
    "\n",
    "from tqdm import tqdm \n",
    "\n",
    "import sys\n",
    "import csv\n",
    "import string\n",
    "import multiprocessing\n",
    "import pandas as pd\n",
    "import numpy as np\n",
    "\n",
    "import keras\n",
    "from keras.preprocessing import sequence\n",
    "from keras.layers import Input, Dense, Embedding, Conv2D, MaxPool2D, Conv1D, GlobalMaxPooling1D, MaxPool1D\n",
    "from keras.layers import Reshape, Flatten, Dropout, Concatenate, Dropout, Activation, Flatten\n",
    "from keras.callbacks import ModelCheckpoint\n",
    "from keras.optimizers import Adam\n",
    "from keras.models import Sequential, load_model, Model\n",
    "import tensorflow as tf\n",
    "\n",
    "from nltk import word_tokenize\n",
    "from nltk.corpus import stopwords\n",
    "\n",
    "import gensim\n",
    "from gensim.models import word2vec\n",
    "from gensim.models.fasttext import FastText\n",
    "from gensim.parsing.preprocessing import preprocess_string"
   ]
  },
  {
   "cell_type": "markdown",
   "metadata": {},
   "source": [
    "## Defaults"
   ]
  },
  {
   "cell_type": "code",
   "execution_count": 2,
   "metadata": {},
   "outputs": [],
   "source": [
    "train_data = 'data/train_news_data.csv'\n",
    "valid_data = 'data/valid_news_data.csv'\n",
    "test_data = 'data/test_news_data.csv'\n",
    "\n",
    "cachedStopWords = stopwords.words(\"english\")\n",
    "cachedStopWords += list(string.punctuation)\n",
    "cachedStopWords += ['0', '1', '2', '3', '4', '5', '6', '7', '8', '9', '-', '…', '’']\n",
    "\n",
    "categories = ['bias', 'clickbait', 'conspiracy', 'fake', 'hate', 'junksci', \n",
    "              'political', 'reliable', 'rumor', 'satire', 'state', 'unreliable']\n",
    "\n",
    "chunksize = 10000"
   ]
  },
  {
   "cell_type": "code",
   "execution_count": 3,
   "metadata": {},
   "outputs": [
    {
     "name": "stderr",
     "output_type": "stream",
     "text": [
      "6195861it [00:46, 132139.81it/s]\n"
     ]
    }
   ],
   "source": [
    "train_size = 0\n",
    "with open(train_data, 'r') as f:\n",
    "    for line in tqdm(f):\n",
    "        train_size += 1"
   ]
  },
  {
   "cell_type": "code",
   "execution_count": 4,
   "metadata": {},
   "outputs": [
    {
     "name": "stdout",
     "output_type": "stream",
     "text": [
      "training size: 6195861\n"
     ]
    }
   ],
   "source": [
    "print(\"training size: {}\".format(train_size))"
   ]
  },
  {
   "cell_type": "code",
   "execution_count": 5,
   "metadata": {},
   "outputs": [
    {
     "name": "stderr",
     "output_type": "stream",
     "text": [
      "1548167it [00:11, 132662.84it/s]\n"
     ]
    }
   ],
   "source": [
    "valid_size = 0\n",
    "with open(valid_data, 'r') as f:\n",
    "    for line in tqdm(f):\n",
    "        valid_size += 1"
   ]
  },
  {
   "cell_type": "code",
   "execution_count": 6,
   "metadata": {},
   "outputs": [
    {
     "name": "stdout",
     "output_type": "stream",
     "text": [
      "validation size: 1548167\n"
     ]
    }
   ],
   "source": [
    "print(\"validation size: {}\".format(valid_size))"
   ]
  },
  {
   "cell_type": "markdown",
   "metadata": {},
   "source": [
    "## News Generator"
   ]
  },
  {
   "cell_type": "code",
   "execution_count": 7,
   "metadata": {},
   "outputs": [],
   "source": [
    "def news_generator():\n",
    "    with tqdm() as progress:\n",
    "        for df in pd.read_csv(train_data, encoding='utf-8', engine='python', chunksize=chunksize):\n",
    "            news_filter = df.category.isin(set(['fake', 'conspiracy', 'unreliable', 'reliable']))\n",
    "            df_filtered = df[news_filter]\n",
    "            \n",
    "            for row in df_filtered.itertuples():\n",
    "                label = 1 if row.category == 'reliable' else 0\n",
    "\n",
    "                progress.update()\n",
    "                yield '%s' % (row.content), label"
   ]
  },
  {
   "cell_type": "markdown",
   "metadata": {},
   "source": [
    "## Show Content Length Distribution"
   ]
  },
  {
   "cell_type": "code",
   "execution_count": null,
   "metadata": {},
   "outputs": [],
   "source": [
    "content_len = []\n",
    "for i, (content, label) in enumerate(news_generator()):\n",
    "    if i > 10 * 1000:\n",
    "        break\n",
    "\n",
    "    content_len.append(len(content))"
   ]
  },
  {
   "cell_type": "code",
   "execution_count": 5,
   "metadata": {},
   "outputs": [
    {
     "data": {
      "text/plain": [
       "<matplotlib.axes._subplots.AxesSubplot at 0x1a384c7898>"
      ]
     },
     "execution_count": 5,
     "metadata": {},
     "output_type": "execute_result"
    },
    {
     "data": {
      "image/png": "[encoded data removed]",
      "text/plain": [
       "<Figure size 432x288 with 1 Axes>"
      ]
     },
     "metadata": {
      "needs_background": "light"
     },
     "output_type": "display_data"
    }
   ],
   "source": [
    "len(content_len), sum(content_len) / len(content_len), max(content_len), min(content_len)\n",
    "sns.distplot(content_len)"
   ]
  },
  {
   "cell_type": "markdown",
   "metadata": {},
   "source": [
    "## Generator"
   ]
  },
  {
   "cell_type": "code",
   "execution_count": 7,
   "metadata": {},
   "outputs": [],
   "source": [
    "# cache GloVe 100d\n",
    "f = open('data/glove.6B.100d.txt', 'r')\n",
    "\n",
    "glove = {}\n",
    "for line in f:\n",
    "    values = line.split()\n",
    "    \n",
    "    word = values[0]\n",
    "    glove[word] = np.asarray(values[1:], dtype='float32')\n",
    "    \n",
    "f.close()"
   ]
  },
  {
   "cell_type": "code",
   "execution_count": 8,
   "metadata": {},
   "outputs": [],
   "source": [
    "max_words = 100"
   ]
  },
  {
   "cell_type": "code",
   "execution_count": 9,
   "metadata": {},
   "outputs": [],
   "source": [
    "def _remove_stopwords(line):\n",
    "    word_token = word_tokenize(line)\n",
    "    words_stopped = [word for word in line if word not in cachedStopWords]\n",
    "    return words_stopped\n",
    "\n",
    "def _generator_process_line(line):\n",
    "    words = _remove_stopwords(line[0])\n",
    "    \n",
    "    embedding = np.zeros((max_words, 100))\n",
    "    \n",
    "    for i, word in enumerate(words[:max_words]):\n",
    "        if word in glove:\n",
    "            embedding[i] = glove[word]\n",
    "            \n",
    "    return embedding, line[1]\n",
    "\n",
    "def Generator(data, batch_size):\n",
    "    while True:\n",
    "        with open(data, 'r') as f:\n",
    "            # skip header\n",
    "            for _ in range(1):\n",
    "                next(f)\n",
    "                \n",
    "            batch_i = 0\n",
    "            batch_embedding = np.zeros((batch_size, max_words, 100))\n",
    "            batch_label = np.zeros((batch_size, 1))\n",
    "            \n",
    "            reader = csv.reader(f)\n",
    "            for line in reader:\n",
    "                embedding, label = _generator_process_line(line)\n",
    "                \n",
    "                if (batch_i + 1) == batch_size:\n",
    "                    yield batch_embedding, batch_label\n",
    "                    \n",
    "                    batch_embedding = np.zeros((batch_size, max_words, 100))\n",
    "                    batch_label = np.zeros((batch_size, 1))\n",
    "                    batch_i = 0\n",
    "                else:\n",
    "                    batch_embedding[batch_i] = embedding\n",
    "                    batch_label[batch_i, 0] = label\n",
    "                    batch_i += 1"
   ]
  },
  {
   "cell_type": "markdown",
   "metadata": {},
   "source": [
    "## Keras Model\n",
    "\n",
    "**Fake vs Reliable News Classification**"
   ]
  },
  {
   "cell_type": "code",
   "execution_count": 10,
   "metadata": {},
   "outputs": [],
   "source": [
    "input_shape = max_words, 100\n",
    "\n",
    "filters = 250\n",
    "kernel_size = 3\n",
    "hidden_dims = 250\n",
    "\n",
    "batch_size = 64\n",
    "epochs = 1"
   ]
  },
  {
   "cell_type": "code",
   "execution_count": 11,
   "metadata": {},
   "outputs": [],
   "source": [
    "def cnn_model(input_shape, filters=250, kernel_size=3, hidden_dims=250):\n",
    "    model = Sequential([\n",
    "        Conv1D(filters, kernel_size, input_shape=(input_shape[0], input_shape[1]), \n",
    "               padding='valid',  activation='relu', strides=1),\n",
    "        GlobalMaxPooling1D(),\n",
    "        Dense(hidden_dims),\n",
    "        Dropout(0.2),\n",
    "        Activation('relu'),\n",
    "        # We project onto a single unit output layer, and squash it with a sigmoid:\n",
    "        Dense(1, activation='sigmoid')\n",
    "    ])\n",
    "        \n",
    "    model.compile(loss='binary_crossentropy', optimizer='adam', metrics=['accuracy'])\n",
    "    \n",
    "    return model"
   ]
  },
  {
   "cell_type": "code",
   "execution_count": 12,
   "metadata": {},
   "outputs": [
    {
     "name": "stdout",
     "output_type": "stream",
     "text": [
      "_________________________________________________________________\n",
      "Layer (type)                 Output Shape              Param #   \n",
      "=================================================================\n",
      "conv1d_1 (Conv1D)            (None, 98, 250)           75250     \n",
      "_________________________________________________________________\n",
      "global_max_pooling1d_1 (Glob (None, 250)               0         \n",
      "_________________________________________________________________\n",
      "dense_1 (Dense)              (None, 250)               62750     \n",
      "_________________________________________________________________\n",
      "dropout_1 (Dropout)          (None, 250)               0         \n",
      "_________________________________________________________________\n",
      "activation_1 (Activation)    (None, 250)               0         \n",
      "_________________________________________________________________\n",
      "dense_2 (Dense)              (None, 1)                 251       \n",
      "=================================================================\n",
      "Total params: 138,251\n",
      "Trainable params: 138,251\n",
      "Non-trainable params: 0\n",
      "_________________________________________________________________\n"
     ]
    }
   ],
   "source": [
    "model = cnn_model(input_shape, filters, kernel_size, hidden_dims)\n",
    "model.summary()"
   ]
  },
  {
   "cell_type": "code",
   "execution_count": null,
   "metadata": {},
   "outputs": [],
   "source": [
    "model.fit_generator(Generator(train_data, batch_size), steps_per_epoch=train_size//batch_size,\n",
    "                    validation_data=Generator(valid_data, batch_size), validation_steps=valid_size//batch_size,\n",
    "                    epochs=epochs, verbose=1)"
   ]
  },
  {
   "cell_type": "code",
   "execution_count": null,
   "metadata": {},
   "outputs": [],
   "source": []
  }
 ],
 "metadata": {
  "kernelspec": {
   "display_name": "Python 3",
   "language": "python",
   "name": "python3"
  },
  "language_info": {
   "codemirror_mode": {
    "name": "ipython",
    "version": 3
   },
   "file_extension": ".py",
   "mimetype": "text/x-python",
   "name": "python",
   "nbconvert_exporter": "python",
   "pygments_lexer": "ipython3",
   "version": "3.6.8"
  },
  "toc": {
   "base_numbering": 1,
   "nav_menu": {},
   "number_sections": true,
   "sideBar": true,
   "skip_h1_title": false,
   "title_cell": "Table of Contents",
   "title_sidebar": "Contents",
   "toc_cell": false,
   "toc_position": {},
   "toc_section_display": true,
   "toc_window_display": false
  }
 },
 "nbformat": 4,
 "nbformat_minor": 2
}
