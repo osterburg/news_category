{
 "cells": [
  {
   "cell_type": "code",
   "execution_count": 1,
   "metadata": {},
   "outputs": [],
   "source": [
    "from pathlib import Path\n",
    "from tqdm import tqdm\n",
    "\n",
    "import sys\n",
    "import csv\n",
    "import pandas as pd\n",
    "import dask.dataframe as dd\n",
    "\n",
    "in_file = Path('data/cleaned_news_data.csv')\n",
    "out_file = Path('data/dropped_news_data.csv')\n",
    "test_file = Path('data/test_news_data.csv')\n",
    "\n",
    "category_dict = {'bias': 0, 'clickbait': 1, 'conspiracy': 2, 'fake': 3, 'hate': 4, 'junksci': 5,\n",
    "                'political': 6, 'reliable': 7, 'rumor': 8, 'satire': 9, 'state': 10, 'unreliable': 11}\n",
    "\n",
    "chunksize = 100000"
   ]
  },
  {
   "cell_type": "code",
   "execution_count": 2,
   "metadata": {},
   "outputs": [],
   "source": [
    "# https://stackoverflow.com/questions/15063936/csv-error-field-larger-than-field-limit-131072\n",
    "\n",
    "maxInt = sys.maxsize\n",
    "decrement = True\n",
    "\n",
    "while decrement:\n",
    "    # decrease the maxInt value by factor 10 \n",
    "    # as long as the OverflowError occurs.\n",
    "    decrement = False\n",
    "    try:\n",
    "        csv.field_size_limit(maxInt)\n",
    "    except OverflowError:\n",
    "        maxInt = int(maxInt/10)\n",
    "        decrement = True"
   ]
  },
  {
   "cell_type": "code",
   "execution_count": 3,
   "metadata": {},
   "outputs": [
    {
     "name": "stderr",
     "output_type": "stream",
     "text": [
      "86it [14:54, 10.01s/it]\n"
     ]
    }
   ],
   "source": [
    "reader = pd.read_csv(in_file, chunksize=chunksize, encoding='utf-8', engine='python')\n",
    "\n",
    "for i, chunk in enumerate(tqdm(reader)):\n",
    "\n",
    "    # copy null cells to new df and delete them\n",
    "    cells = chunk[chunk['category'].isnull()].index.tolist()\n",
    "    \n",
    "    test_df = pd.DataFrame(columns=chunk.columns)\n",
    "    rows = chunk.loc[cells, :]\n",
    "    test_df = test_df.append(rows, ignore_index=True)\n",
    "    chunk = chunk.dropna()\n",
    "    \n",
    "    # remap category names to numbers\n",
    "    chunk['category'] = chunk['category'].map(category_dict)\n",
    "    chunk['category'] = chunk['category'].astype('int32', copy=False)\n",
    "\n",
    "    if not out_file.exists() or not test_file.exists():\n",
    "        chunk.to_csv(out_file, index=False)\n",
    "        test_df.to_csv(test_file, index=False)\n",
    "    else:\n",
    "        chunk.to_csv(out_file, index=False, mode='a', header=False)\n",
    "        test_df.to_csv(test_file, index=False, mode='a', header=False)"
   ]
  },
  {
   "cell_type": "code",
   "execution_count": null,
   "metadata": {},
   "outputs": [],
   "source": []
  }
 ],
 "metadata": {
  "kernelspec": {
   "display_name": "Python 3",
   "language": "python",
   "name": "python3"
  },
  "language_info": {
   "codemirror_mode": {
    "name": "ipython",
    "version": 3
   },
   "file_extension": ".py",
   "mimetype": "text/x-python",
   "name": "python",
   "nbconvert_exporter": "python",
   "pygments_lexer": "ipython3",
   "version": "3.6.8"
  },
  "toc": {
   "base_numbering": 1,
   "nav_menu": {},
   "number_sections": true,
   "sideBar": true,
   "skip_h1_title": false,
   "title_cell": "Table of Contents",
   "title_sidebar": "Contents",
   "toc_cell": false,
   "toc_position": {},
   "toc_section_display": true,
   "toc_window_display": false
  }
 },
 "nbformat": 4,
 "nbformat_minor": 2
}
