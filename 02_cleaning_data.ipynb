{
 "cells": [
  {
   "cell_type": "code",
   "execution_count": 1,
   "metadata": {},
   "outputs": [],
   "source": [
    "from pathlib import Path\n",
    "from tqdm import tqdm\n",
    "\n",
    "import sys\n",
    "import csv\n",
    "import numpy as np\n",
    "import pandas as pd\n",
    "import dask.dataframe as dd\n",
    "\n",
    "in_file = Path('data/cleaned_news_data.csv.gz')\n",
    "train_file = Path('data/train_news_data.csv')\n",
    "valid_file = Path('data/valid_news_data.csv')\n",
    "test_file = Path('data/test_news_data.csv')\n",
    "\n",
    "chunksize = 100000"
   ]
  },
  {
   "cell_type": "code",
   "execution_count": 2,
   "metadata": {},
   "outputs": [],
   "source": [
    "# https://stackoverflow.com/questions/15063936/csv-error-field-larger-than-field-limit-131072\n",
    "\n",
    "maxInt = sys.maxsize\n",
    "decrement = True\n",
    "\n",
    "while decrement:\n",
    "    # decrease the maxInt value by factor 10 \n",
    "    # as long as the OverflowError occurs.\n",
    "    decrement = False\n",
    "    try:\n",
    "        csv.field_size_limit(maxInt)\n",
    "    except OverflowError:\n",
    "        maxInt = int(maxInt/10)\n",
    "        decrement = True"
   ]
  },
  {
   "cell_type": "code",
   "execution_count": 3,
   "metadata": {},
   "outputs": [
    {
     "name": "stderr",
     "output_type": "stream",
     "text": [
      "86it [17:31, 11.79s/it]\n"
     ]
    }
   ],
   "source": [
    "reader = pd.read_csv(in_file, chunksize=chunksize, encoding='utf-8', engine='python', compression='gzip')\n",
    "\n",
    "for i, chunk in enumerate(tqdm(reader)):\n",
    "\n",
    "    # copy null cells to new df and delete them\n",
    "    cells = chunk[chunk['category'].isnull()].index.tolist()\n",
    "    \n",
    "    test_df = pd.DataFrame(columns=chunk.columns)\n",
    "    rows = chunk.loc[cells, :]\n",
    "    test_df = test_df.append(rows, ignore_index=True)\n",
    "    \n",
    "    test_df = test_df.drop('category', axis=1)\n",
    "    chunk = chunk.dropna()\n",
    "    \n",
    "    # train, valid split\n",
    "    train, valid = np.split(chunk.sample(frac=1).reset_index(drop=True), [int(.8 * len(chunk))])\n",
    "\n",
    "    if not train_file.exists() or not valid_file.exists() or not test_file.exists():\n",
    "        train.to_csv(train_file, index=False)\n",
    "        valid.to_csv(valid_file, index=False)\n",
    "        test_df.to_csv(test_file, index=False)\n",
    "    else:\n",
    "        train.to_csv(train_file, index=False, mode='a', header=False)\n",
    "        valid.to_csv(valid_file, index=False, mode='a', header=False)\n",
    "        test_df.to_csv(test_file, index=False, mode='a', header=False)"
   ]
  }
 ],
 "metadata": {
  "kernelspec": {
   "display_name": "Python 3",
   "language": "python",
   "name": "python3"
  },
  "language_info": {
   "codemirror_mode": {
    "name": "ipython",
    "version": 3
   },
   "file_extension": ".py",
   "mimetype": "text/x-python",
   "name": "python",
   "nbconvert_exporter": "python",
   "pygments_lexer": "ipython3",
   "version": "3.6.8"
  },
  "toc": {
   "base_numbering": 1,
   "nav_menu": {},
   "number_sections": true,
   "sideBar": true,
   "skip_h1_title": false,
   "title_cell": "Table of Contents",
   "title_sidebar": "Contents",
   "toc_cell": false,
   "toc_position": {},
   "toc_section_display": true,
   "toc_window_display": false
  }
 },
 "nbformat": 4,
 "nbformat_minor": 2
}
