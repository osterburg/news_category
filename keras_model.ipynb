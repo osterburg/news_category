{
 "cells": [
  {
   "cell_type": "code",
   "execution_count": 1,
   "metadata": {},
   "outputs": [
    {
     "name": "stderr",
     "output_type": "stream",
     "text": [
      "Using TensorFlow backend.\n"
     ]
    }
   ],
   "source": [
    "import csv\n",
    "\n",
    "import dask.dataframe as dd\n",
    "import pandas as pd\n",
    "import numpy as np\n",
    "np.random.seed(0)\n",
    "\n",
    "import matplotlib.pyplot as plt\n",
    "%matplotlib inline\n",
    "\n",
    "import keras\n",
    "from keras.layers import GRU, Dense, GlobalMaxPool1D, Embedding, Dropout\n",
    "from keras.preprocessing import text, sequence\n",
    "from keras.models import Sequential\n",
    "\n",
    "from math import ceil"
   ]
  },
  {
   "cell_type": "code",
   "execution_count": 2,
   "metadata": {},
   "outputs": [],
   "source": [
    "# https://stackoverflow.com/questions/15063936/csv-error-field-larger-than-field-limit-131072\n",
    "import sys, csv\n",
    "\n",
    "maxInt = sys.maxsize\n",
    "decrement = True\n",
    "\n",
    "while decrement:\n",
    "    # decrease the maxInt value by factor 10 \n",
    "    # as long as the OverflowError occurs.\n",
    "    decrement = False\n",
    "    try:\n",
    "        csv.field_size_limit(maxInt)\n",
    "    except OverflowError:\n",
    "        maxInt = int(maxInt/10)\n",
    "        decrement = True"
   ]
  },
  {
   "cell_type": "code",
   "execution_count": 3,
   "metadata": {},
   "outputs": [],
   "source": [
    "class Generator(Sequential):\n",
    "\n",
    "    def __init__(self, data_file):\n",
    "        self.data_file = data_file\n",
    "        # we initialize the number of rows with -1\n",
    "        self.length = -1\n",
    "\n",
    "    def __iter__(self):\n",
    "        while True:\n",
    "            with open(self.data_file, 'r') as f:\n",
    "                # skip first line (header)\n",
    "                for _ in range(1):\n",
    "                    next(f)\n",
    "\n",
    "                reader = csv.reader(f)\n",
    "                for row in reader:\n",
    "                    # content\n",
    "                    tokenizer = text.Tokenizer(num_words=20000)\n",
    "                    tokenizer.fit_on_texts(list(row[0]))\n",
    "                    list_tokenized_train = tokenizer.texts_to_sequences(row[0])\n",
    "                    X = sequence.pad_sequences(list_tokenized_train, maxlen=100)\n",
    "                    # category\n",
    "                    y = np.array(int(row[1]), dtype='int32').flatten()\n",
    "                    \n",
    "                    yield (X, y)\n",
    "\n",
    "    def __next__(self):\n",
    "        try:\n",
    "            self.data_file = self.data_file\n",
    "        except IndexError:\n",
    "            raise StopIteration()\n",
    "    \n",
    "    # we also need to override __len__ so Keras can get the number of rows in the file\n",
    "    def __len__(self):\n",
    "        # we only compute this once\n",
    "        if self.length ==  -1:\n",
    "            n_rows = 0\n",
    "            with open(self.data_file, 'r') as f:\n",
    "                reader = csv.reader(f)\n",
    "                for row in reader:\n",
    "                    n_rows += 1\n",
    "            self.length = n_rows\n",
    "        return self.length"
   ]
  },
  {
   "cell_type": "code",
   "execution_count": null,
   "metadata": {},
   "outputs": [
    {
     "name": "stdout",
     "output_type": "stream",
     "text": [
      "Epoch 1/3\n"
     ]
    }
   ],
   "source": [
    "# Now we need to call our Keras model with the generators\n",
    "train_generator = Generator('training_data.csv')\n",
    "valid_generator = Generator('validation_data.csv')\n",
    "\n",
    "# and we train our Keras model using the fit_generator function\n",
    "model = Sequential([\n",
    "    Embedding(20000, 128),\n",
    "    GRU(50, return_sequences=True),\n",
    "    GlobalMaxPool1D(),\n",
    "    Dropout(0.5),\n",
    "    Dense(50, activation='relu'),\n",
    "    Dropout(0.5),\n",
    "    Dense(8, activation='softmax')\n",
    "])\n",
    "\n",
    "# compile the model\n",
    "model.compile(loss='categorical_crossentropy', optimizer='adam', metrics=['accuracy'])\n",
    "\n",
    "# let's say our batch size is 100 rows\n",
    "batch_size = 100\n",
    "\n",
    "# the number of batches per epoch is then\n",
    "batches_per_epoch = ceil(len(train_generator) / batch_size)\n",
    "\n",
    "result = model.fit_generator(train_generator, steps_per_epoch=batches_per_epoch, epochs=3,\n",
    "                             validation_data=valid_generator, validation_steps=5)"
   ]
  },
  {
   "cell_type": "code",
   "execution_count": null,
   "metadata": {},
   "outputs": [],
   "source": []
  }
 ],
 "metadata": {
  "kernelspec": {
   "display_name": "Python 3",
   "language": "python",
   "name": "python3"
  },
  "language_info": {
   "codemirror_mode": {
    "name": "ipython",
    "version": 3
   },
   "file_extension": ".py",
   "mimetype": "text/x-python",
   "name": "python",
   "nbconvert_exporter": "python",
   "pygments_lexer": "ipython3",
   "version": "3.6.8"
  },
  "toc": {
   "base_numbering": 1,
   "nav_menu": {},
   "number_sections": true,
   "sideBar": true,
   "skip_h1_title": false,
   "title_cell": "Table of Contents",
   "title_sidebar": "Contents",
   "toc_cell": false,
   "toc_position": {},
   "toc_section_display": true,
   "toc_window_display": false
  }
 },
 "nbformat": 4,
 "nbformat_minor": 2
}
